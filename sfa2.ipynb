{
 "cells": [
  {
   "cell_type": "code",
   "execution_count": 91,
   "metadata": {
    "collapsed": true
   },
   "outputs": [],
   "source": [
    "from sfa import SparseFactorAnalyzer\n",
    "import pandas as pd\n",
    "import numpy as np\n",
    "import pickle\n",
    "import matplotlib.pyplot as plt\n",
    "import seaborn as sns\n",
    "import pickle"
   ]
  },
  {
   "cell_type": "code",
   "execution_count": 92,
   "metadata": {},
   "outputs": [
    {
     "name": "stdout",
     "output_type": "stream",
     "text": [
      "The autoreload extension is already loaded. To reload it, use:\n",
      "  %reload_ext autoreload\n"
     ]
    }
   ],
   "source": [
    "%matplotlib inline\n",
    "%load_ext autoreload\n",
    "%autoreload 2"
   ]
  },
  {
   "cell_type": "code",
   "execution_count": 93,
   "metadata": {
    "collapsed": true
   },
   "outputs": [],
   "source": [
    "data_path = 'data/variance_stabilized.csv'\n",
    "pheno_path = 'data/phenotype.csv'\n",
    "data = pd.read_csv(data_path, index_col=0)\n",
    "phenotype = pd.read_csv(pheno_path, index_col=0)"
   ]
  },
  {
   "cell_type": "code",
   "execution_count": 94,
   "metadata": {
    "collapsed": true
   },
   "outputs": [],
   "source": [
    "small_data = data.loc[data.var(axis=1).nlargest(10000).index]\n",
    "small_data = data.loc[small_data.var(axis=1).nsmallest(9500).index]\n",
    "\n",
    "val_index = np.random.choice(9500, 1000, replace=False)\n",
    "cross_val_data = small_data.iloc[val_index]\n",
    "\n",
    "train_index = np.random.choice(8500, 3000, replace=False)\n",
    "train_data = small_data.drop(cross_val_data.index)\n",
    "train_data = train_data.iloc[train_index]"
   ]
  },
  {
   "cell_type": "code",
   "execution_count": 95,
   "metadata": {},
   "outputs": [
    {
     "data": {
      "image/png": "[encoded data removed]",
      "text/plain": [
       "<matplotlib.figure.Figure at 0x2aaafa799d90>"
      ]
     },
     "metadata": {},
     "output_type": "display_data"
    }
   ],
   "source": [
    "plt.hist(small_data.var(axis=1), bins=50)\n",
    "plt.show()"
   ]
  },
  {
   "cell_type": "code",
   "execution_count": 89,
   "metadata": {},
   "outputs": [
    {
     "data": {
      "image/png": "[encoded data removed]",
      "text/plain": [
       "<matplotlib.figure.Figure at 0x2aab0ca3c090>"
      ]
     },
     "metadata": {},
     "output_type": "display_data"
    }
   ],
   "source": [
    "plt.hist(train_data.var(axis=1), bins=50)\n",
    "plt.show()"
   ]
  },
  {
   "cell_type": "code",
   "execution_count": 90,
   "metadata": {},
   "outputs": [
    {
     "data": {
      "image/png": "[encoded data removed]",
      "text/plain": [
       "<matplotlib.figure.Figure at 0x2aab0d445410>"
      ]
     },
     "metadata": {},
     "output_type": "display_data"
    }
   ],
   "source": [
    "plt.hist(cross_val_data.var(axis=1), bins=50)\n",
    "plt.show()"
   ]
  },
  {
   "cell_type": "code",
   "execution_count": null,
   "metadata": {},
   "outputs": [
    {
     "name": "stdout",
     "output_type": "stream",
     "text": [
      "updating lambda\n",
      "updating psi\n",
      "updating sigma2\n",
      "updating F\n",
      "scaling F, sigma2\n",
      "(0, 'expected log likelihood has improved by:', inf)\n",
      "updating lambda\n",
      "updating psi\n",
      "updating sigma2\n",
      "updating F\n",
      "scaling F, sigma2\n",
      "updating lambda\n",
      "updating psi\n",
      "updating sigma2\n",
      "updating F\n",
      "scaling F, sigma2\n",
      "updating lambda\n",
      "updating psi\n",
      "updating sigma2\n",
      "updating F\n",
      "scaling F, sigma2\n",
      "updating lambda\n",
      "updating psi\n",
      "updating sigma2\n",
      "updating F\n",
      "scaling F, sigma2\n",
      "updating lambda\n",
      "updating psi\n",
      "updating sigma2\n",
      "updating F\n",
      "scaling F, sigma2\n",
      "(5, 'expected log likelihood has improved by:', 1177188.2915450591)\n",
      "updating lambda\n",
      "updating psi\n",
      "updating sigma2\n",
      "updating F\n",
      "scaling F, sigma2\n",
      "updating lambda\n",
      "updating psi\n",
      "updating sigma2\n"
     ]
    }
   ],
   "source": [
    "np.random.seed(2)\n",
    "sfa = SparseFactorAnalyzer(k_components=50, data=train_data)\n",
    "pickle.dump(sfa, open('output/sfa2', 'wb'))\n",
    "\n",
    "for i in range(20):\n",
    "    sfa.ecme(iters=20, structured=False, scale=True, verbose=True)\n",
    "    pickle.dump(sfa, open('output/sfa2', 'wb'))"
   ]
  },
  {
   "cell_type": "code",
   "execution_count": null,
   "metadata": {
    "collapsed": true
   },
   "outputs": [],
   "source": []
  }
 ],
 "metadata": {
  "anaconda-cloud": {},
  "kernelspec": {
   "display_name": "Python 2",
   "language": "python",
   "name": "python2"
  },
  "language_info": {
   "codemirror_mode": {
    "name": "ipython",
    "version": 2
   },
   "file_extension": ".py",
   "mimetype": "text/x-python",
   "name": "python",
   "nbconvert_exporter": "python",
   "pygments_lexer": "ipython2",
   "version": "2.7.13"
  }
 },
 "nbformat": 4,
 "nbformat_minor": 1
}
