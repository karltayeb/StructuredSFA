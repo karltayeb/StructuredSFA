{
 "cells": [
  {
   "cell_type": "code",
   "execution_count": 1,
   "metadata": {
    "collapsed": true
   },
   "outputs": [],
   "source": [
    "from sfa import SparseFactorAnalyzer\n",
    "import pandas as pd\n",
    "import numpy as np\n",
    "import pickle\n",
    "import matplotlib.pyplot as plt\n",
    "import seaborn as sns\n",
    "import pickle"
   ]
  },
  {
   "cell_type": "code",
   "execution_count": 2,
   "metadata": {
    "collapsed": true
   },
   "outputs": [],
   "source": [
    "%matplotlib inline\n",
    "%load_ext autoreload\n",
    "%autoreload 2"
   ]
  },
  {
   "cell_type": "code",
   "execution_count": 3,
   "metadata": {
    "collapsed": true
   },
   "outputs": [],
   "source": [
    "data_path = 'data/variance_stabilized.csv'\n",
    "pheno_path = 'data/phenotype.csv'\n",
    "data = pd.read_csv(data_path, index_col=0)\n",
    "phenotype = pd.read_csv(pheno_path, index_col=0)"
   ]
  },
  {
   "cell_type": "code",
   "execution_count": 4,
   "metadata": {
    "collapsed": true
   },
   "outputs": [],
   "source": [
    "small_data = data.loc[data.var(axis=1).nlargest(10000).index]\n",
    "small_data = data.loc[small_data.var(axis=1).nsmallest(9500).index]\n",
    "\n",
    "val_index = np.random.choice(9500, 1000, replace=False)\n",
    "cross_val_data = small_data.iloc[val_index]\n",
    "\n",
    "train_index = np.random.choice(8500, 3000, replace=False)\n",
    "train_data = small_data.drop(cross_val_data.index)\n",
    "train_data = train_data.iloc[train_index]"
   ]
  },
  {
   "cell_type": "code",
   "execution_count": null,
   "metadata": {
    "collapsed": true
   },
   "outputs": [],
   "source": [
    "def set_gamma_inverse(rho, phenotype, sfa):\n",
    "    x = phenotype.shape[0]\n",
    "    Gamma = pd.DataFrame(columns=phenotype.index, index=phenotype.index, data=np.zeros((x, x)))\n",
    "    for s1 in phenotype.index:\n",
    "        for s2 in phenotype.index:\n",
    "            if s1 == s2:\n",
    "                Gamma.loc[s1, s2] = 1\n",
    "            elif phenotype[s1] == phenotype[s2]:\n",
    "                Gamma.loc[s1, s2] = rho\n",
    "            else:\n",
    "                Gamma.loc[s1, s2] = 0\n",
    "                \n",
    "    Gamma_inverse = np.linalg.inv(Gamma.as_matrix())\n",
    "    \n",
    "    sfa.Gamma_inverse = np.array([Gamma_inverse for k in range(sfa.k_components)])"
   ]
  },
  {
   "cell_type": "code",
   "execution_count": null,
   "metadata": {},
   "outputs": [
    {
     "name": "stdout",
     "output_type": "stream",
     "text": [
      "updating lambda\n",
      "updating psi\n",
      "updating sigma2\n",
      "updating F\n",
      "scaling F, sigma2\n",
      "(0, 'expected log likelihood has improved by:', inf)\n",
      "updating lambda\n",
      "updating psi\n",
      "updating sigma2\n",
      "updating F\n",
      "scaling F, sigma2\n",
      "updating lambda\n",
      "updating psi\n",
      "updating sigma2\n",
      "updating F\n",
      "scaling F, sigma2\n",
      "updating lambda\n",
      "updating psi\n",
      "updating sigma2\n",
      "updating F\n",
      "scaling F, sigma2\n",
      "updating lambda\n",
      "updating psi\n",
      "updating sigma2\n",
      "updating F\n",
      "scaling F, sigma2\n",
      "updating lambda\n",
      "updating psi\n",
      "updating sigma2\n",
      "updating F\n",
      "scaling F, sigma2\n",
      "(5, 'expected log likelihood has improved by:', 1724740.9743101927)\n",
      "updating lambda\n",
      "updating psi\n",
      "updating sigma2\n",
      "updating F\n",
      "scaling F, sigma2\n",
      "updating lambda\n",
      "updating psi\n",
      "updating sigma2\n"
     ]
    }
   ],
   "source": [
    "np.random.seed(3)\n",
    "sfa = SparseFactorAnalyzer(k_components=50, data=train_data)\n",
    "set_gamma_inverse(0.4, phenotype.DAY, sfa)\n",
    "pickle.dump(sfa, open('output/ssfa3', 'wb'))\n",
    "\n",
    "for i in range(20):\n",
    "    sfa.ecme(iters=20, structured=True, scale=True, verbose=True)\n",
    "    pickle.dump(sfa, open('output/ssfa3', 'wb'))"
   ]
  },
  {
   "cell_type": "code",
   "execution_count": null,
   "metadata": {
    "collapsed": true
   },
   "outputs": [],
   "source": []
  }
 ],
 "metadata": {
  "anaconda-cloud": {},
  "kernelspec": {
   "display_name": "Python 2",
   "language": "python",
   "name": "python2"
  },
  "language_info": {
   "codemirror_mode": {
    "name": "ipython",
    "version": 2
   },
   "file_extension": ".py",
   "mimetype": "text/x-python",
   "name": "python",
   "nbconvert_exporter": "python",
   "pygments_lexer": "ipython2",
   "version": "2.7.13"
  }
 },
 "nbformat": 4,
 "nbformat_minor": 1
}
